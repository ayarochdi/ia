{
 "cells": [
  {
   "cell_type": "code",
   "execution_count": 1,
   "id": "b9ef897e-a576-4e2e-855e-49d53aa0710e",
   "metadata": {},
   "outputs": [
    {
     "name": "stdout",
     "output_type": "stream",
     "text": [
      "[2002, 2009, 2016, 2023, 2037, 2044, 2051, 2058, 2072, 2079, 2086, 2093, 2107, 2114, 2121, 2128, 2142, 2149, 2156, 2163, 2177, 2184, 2191, 2198, 2212, 2219, 2226, 2233, 2247, 2254, 2261, 2268, 2282, 2289, 2296, 2303, 2317, 2324, 2331, 2338, 2352, 2359, 2366, 2373, 2387, 2394, 2401, 2408, 2422, 2429, 2436, 2443, 2457, 2464, 2471, 2478, 2492, 2499, 2506, 2513, 2527, 2534, 2541, 2548, 2562, 2569, 2576, 2583, 2597, 2604, 2611, 2618, 2632, 2639, 2646, 2653, 2667, 2674, 2681, 2688, 2702, 2709, 2716, 2723, 2737, 2744, 2751, 2758, 2772, 2779, 2786, 2793, 2807, 2814, 2821, 2828, 2842, 2849, 2856, 2863, 2877, 2884, 2891, 2898, 2912, 2919, 2926, 2933, 2947, 2954, 2961, 2968, 2982, 2989, 2996, 3003, 3017, 3024, 3031, 3038, 3052, 3059, 3066, 3073, 3087, 3094, 3101, 3108, 3122, 3129, 3136, 3143, 3157, 3164, 3171, 3178, 3192, 3199]\n"
     ]
    }
   ],
   "source": [
    "#######question 1\n",
    "result = []\n",
    "for i in range(2000, 3201):\n",
    "  if i % 7 == 0 and i % 5 != 0:\n",
    "    result.append(i)\n",
    "\n",
    "print(result)\n"
   ]
  },
  {
   "cell_type": "code",
   "execution_count": 2,
   "id": "fc32e936-1daa-40d1-9965-df1928f760b5",
   "metadata": {},
   "outputs": [
    {
     "name": "stdout",
     "output_type": "stream",
     "text": [
      "120\n"
     ]
    }
   ],
   "source": [
    "#######questio2\n",
    "def factorial(n):\n",
    "  result = 1\n",
    "  for i in range(1, n+1):\n",
    "    result *= i\n",
    "  return result\n",
    "\n",
    "print(factorial(5)) # imprimera 120\n"
   ]
  },
  {
   "cell_type": "code",
   "execution_count": 3,
   "id": "76c5e3f2-ed62-4e93-b1f6-b2ad39001f69",
   "metadata": {},
   "outputs": [
    {
     "name": "stdout",
     "output_type": "stream",
     "text": [
      "{1: 1, 2: 4, 3: 9, 4: 16, 5: 25, 6: 36, 7: 49, 8: 64}\n"
     ]
    }
   ],
   "source": [
    "#######questio3\n",
    "n = 8\n",
    "result = {}\n",
    "for i in range(1, n+1):\n",
    "  result[i] = i*i\n",
    "\n",
    "print(result) "
   ]
  },
  {
   "cell_type": "code",
   "execution_count": 5,
   "id": "9446001e-c7dd-4d44-9b6c-f840c45e89dd",
   "metadata": {},
   "outputs": [
    {
     "name": "stdout",
     "output_type": "stream",
     "text": [
      "ktten\n",
      "itten\n",
      "kittn\n"
     ]
    }
   ],
   "source": [
    "#######questio4\n",
    "\n",
    "def missing_char(s, n):\n",
    "  return s[:n] + s[n+1:]\n",
    "\n",
    "print(missing_char('kitten', 1))\n",
    "print(missing_char('kitten', 0)) \n",
    "print(missing_char('kitten', 4)) \n"
   ]
  },
  {
   "cell_type": "code",
   "execution_count": 6,
   "id": "e7e82c90-2503-42a3-b741-b8fac2925f33",
   "metadata": {},
   "outputs": [
    {
     "name": "stdout",
     "output_type": "stream",
     "text": [
      "Elements of original array: [[0 1]\n",
      " [2 3]\n",
      " [4 5]]\n",
      "Array to list: [[0, 1], [2, 3], [4, 5]]\n"
     ]
    }
   ],
   "source": [
    "#######questio5\n",
    "\n",
    "import numpy as np\n",
    "\n",
    "array = np.array([[0, 1], [2, 3], [4, 5]])\n",
    "print(\"Elements of original array:\", array)\n",
    "\n",
    "list_array = array.tolist()\n",
    "print(\"Array to list:\", list_array)\n"
   ]
  },
  {
   "cell_type": "code",
   "execution_count": 7,
   "id": "e3eb4df2-c488-4b4a-8839-6e685795b22e",
   "metadata": {},
   "outputs": [
    {
     "name": "stdout",
     "output_type": "stream",
     "text": [
      "[[ 1. -1.]\n",
      " [-1.  1.]]\n"
     ]
    }
   ],
   "source": [
    "#######questio6\n",
    "\n",
    "import numpy as np\n",
    "\n",
    "array1 = np.array([0, 1, 2])\n",
    "array2 = np.array([2, 1, 0])\n",
    "\n",
    "covariance_matrix = np.cov(array1, array2)\n",
    "print(covariance_matrix) # imprimera [[ 1. -1.] [-1. 1.]]\n"
   ]
  },
  {
   "cell_type": "code",
   "execution_count": 8,
   "id": "68dc664e-b15b-4087-8cd7-02eee55a5f1f",
   "metadata": {},
   "outputs": [
    {
     "name": "stdout",
     "output_type": "stream",
     "text": [
      "18.257418583505537\n",
      "22.360679774997898\n",
      "24.49489742783178\n"
     ]
    }
   ],
   "source": [
    "#######questio7\n",
    "import math\n",
    "\n",
    "C = 50\n",
    "H = 30\n",
    "D = \"100,150,180\"\n",
    "\n",
    "for d in D.split(','):\n",
    "  Q = math.sqrt(2*C*int(d)/H)\n",
    "  print(Q)\n"
   ]
  },
  {
   "cell_type": "code",
   "execution_count": null,
   "id": "579aa5ee-ee42-4882-82a1-c295be7dcff5",
   "metadata": {},
   "outputs": [],
   "source": []
  }
 ],
 "metadata": {
  "kernelspec": {
   "display_name": "Python 3 (ipykernel)",
   "language": "python",
   "name": "python3"
  },
  "language_info": {
   "codemirror_mode": {
    "name": "ipython",
    "version": 3
   },
   "file_extension": ".py",
   "mimetype": "text/x-python",
   "name": "python",
   "nbconvert_exporter": "python",
   "pygments_lexer": "ipython3",
   "version": "3.9.13"
  }
 },
 "nbformat": 4,
 "nbformat_minor": 5
}
